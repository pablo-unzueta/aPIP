{
 "cells": [
  {
   "cell_type": "code",
   "execution_count": 1,
   "metadata": {},
   "outputs": [],
   "source": [
    "import numpy as np\n"
   ]
  },
  {
   "cell_type": "code",
   "execution_count": 2,
   "metadata": {},
   "outputs": [],
   "source": [
    "# 3-Body Primary and Secondary Invariants\n",
    "\n",
    "# AA\n",
    "# p1 = u12 + u13\n",
    "# p2 = u12*u13\n",
    "# p3 = w213\n",
    "# s1 = 1\n",
    "\n",
    "# AB\n",
    "# p1 = u12\n",
    "# p2 = u13\n",
    "# p3 = w213\n",
    "# s1 = 1"
   ]
  },
  {
   "cell_type": "code",
   "execution_count": 3,
   "metadata": {},
   "outputs": [],
   "source": [
    "# 4-Body Primary and Secondary Invariants\n",
    "\n",
    "# ABC\n",
    "# p1 = u12\n",
    "# p2 = u13\n",
    "# p3 = u14\n",
    "# p4 = w213\n",
    "# p5 = w314\n",
    "# p6 = w314\n",
    "# s1 = 1\n",
    "\n",
    "# AAB\n",
    "# p1 = u14\n",
    "# p2 = u12 + u13\n",
    "# p3 = w214 + w314\n",
    "# p4 = w312\n",
    "# p5 = (u12*u12) + (u13*u13)\n",
    "# p6 = (w214*w214) + (w314*w314)\n",
    "# s1 = 1\n",
    "# s2 = (u12*w314) + (u13*w214)\n",
    "\n"
   ]
  },
  {
   "cell_type": "code",
   "execution_count": 4,
   "metadata": {},
   "outputs": [],
   "source": [
    "# AAA\n",
    "# p1 = u12 + u13 + u14\n",
    "# p2 = w213 + w214 + w314\n",
    "# p3 = (u12*u12) + (u13*u13) + (u14*u14)\n",
    "# p4 = (u12*w213) + (u13*w314) + (u14*w214) \n",
    "# p5 = (w213*w213*w213)+ (w214*w214*w214)+ (w314*w314*w314)\n",
    "# p6 = (u12*u12*u12) + (u13*u13*u13) + (u14*u14*u14) + (w213*w213*w214) + (w213*w314*w314) + (w214*w214*w314)\n",
    "# s1 = 1\n",
    "# s2 = (u12*w214) + (u13*w213) + (u14*w314)\n",
    "# s3 = (w213*w213) + (w214*w214) + (w314*w314)\n",
    "# s4 = (u12*u12*u14) + (u12*u13*u13) + (u13*u14*u14)\n",
    "# s5 = (u12*u13*w213) + (u12*u14*w214) + (u13*u14*w314)\n",
    "# s6 = (u12*w213*w213) + (u13*w314*w314) + (u14*w214*w214)\n",
    "# s7 = (u12*u12*w214) + (u13*u13*w213) + (u14*u14*w314)\n",
    "# s8 = (u12*w213*w214) + (u13*w213*w314) + (u14*w214*w314)\n",
    "# s9 = (w213*w213*w314) + (w213*w214*w214) + (w214*w314*w314)\n",
    "# s10 = s2*s3\n",
    "# s11 = s2*s2\n",
    "# s12 = s5*s5"
   ]
  },
  {
   "cell_type": "code",
   "execution_count": 5,
   "metadata": {},
   "outputs": [],
   "source": [
    "class aPIP:\n",
    "    def __init__(self, message):\n",
    "        self.text = message\n",
    "        \n",
    "    def print_test(self):\n",
    "        print(self.text)"
   ]
  },
  {
   "cell_type": "code",
   "execution_count": 6,
   "metadata": {},
   "outputs": [],
   "source": [
    "test = aPIP('poop')"
   ]
  },
  {
   "cell_type": "code",
   "execution_count": 7,
   "metadata": {},
   "outputs": [
    {
     "name": "stdout",
     "output_type": "stream",
     "text": [
      "poop\n"
     ]
    }
   ],
   "source": [
    "test.print_test()"
   ]
  },
  {
   "cell_type": "code",
   "execution_count": null,
   "metadata": {},
   "outputs": [],
   "source": []
  }
 ],
 "metadata": {
  "kernelspec": {
   "display_name": "Python 3",
   "language": "python",
   "name": "python3"
  },
  "language_info": {
   "codemirror_mode": {
    "name": "ipython",
    "version": 3
   },
   "file_extension": ".py",
   "mimetype": "text/x-python",
   "name": "python",
   "nbconvert_exporter": "python",
   "pygments_lexer": "ipython3",
   "version": "3.7.0"
  }
 },
 "nbformat": 4,
 "nbformat_minor": 4
}
